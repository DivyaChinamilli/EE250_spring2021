{
  "nbformat": 4,
  "nbformat_minor": 0,
  "metadata": {
    "colab": {
      "name": "EE450 – Project.ipynb",
      "provenance": [],
      "collapsed_sections": [],
      "include_colab_link": true
    },
    "kernelspec": {
      "name": "python3",
      "display_name": "Python 3"
    },
    "language_info": {
      "name": "python"
    }
  },
  "cells": [
    {
      "cell_type": "markdown",
      "metadata": {
        "id": "view-in-github",
        "colab_type": "text"
      },
      "source": [
        "<a href=\"https://colab.research.google.com/github/DivyaChinamilli/EE250_spring2021/blob/main/EE450_%E2%80%93_Project.ipynb\" target=\"_parent\"><img src=\"https://colab.research.google.com/assets/colab-badge.svg\" alt=\"Open In Colab\"/></a>"
      ]
    },
    {
      "cell_type": "code",
      "metadata": {
        "colab": {
          "base_uri": "https://localhost:8080/"
        },
        "id": "ec1p3BgWxJaJ",
        "outputId": "b88a48db-bd64-4acf-e1fd-a9b7cb32778e"
      },
      "source": [
        "%%writefile project.h\n",
        "#ifndef PROJECT_H \n",
        "#define PROJECT_H\n",
        "\n",
        "#define TCP_PORT \"8000\"\n",
        "\n",
        "struct TCP_Message {\n",
        "  uint32_t  price;\n",
        "  char      name[20];\n",
        "};\n",
        "\n",
        "struct UDP_Message {\n",
        "  uint32_t  action;\n",
        "  uint32_t  price;\n",
        "  char      name[20];\n",
        "};\n",
        "\n",
        "#endif /* PROJECT_H */"
      ],
      "execution_count": null,
      "outputs": [
        {
          "output_type": "stream",
          "text": [
            "Overwriting project.h\n"
          ],
          "name": "stdout"
        }
      ]
    },
    {
      "cell_type": "code",
      "metadata": {
        "colab": {
          "base_uri": "https://localhost:8080/"
        },
        "id": "7wxR8qDhPgUB",
        "outputId": "acc99339-8f24-4f40-9b76-5ecd76b563a6"
      },
      "source": [
        "%%writefile server.cpp\n",
        "#include <iostream>\n",
        "#include <iomanip>\n",
        "#include <ctime>\n",
        "#include <chrono>\n",
        "#include <thread>\n",
        "#include <mutex>\n",
        "\n",
        "#include <stdio.h>\n",
        "#include <stdlib.h>\n",
        "#include <unistd.h>\n",
        "#include <errno.h>\n",
        "#include <string.h>\n",
        "#include <sys/types.h>\n",
        "#include <sys/socket.h>\n",
        "#include <netinet/in.h>\n",
        "#include <netdb.h>\n",
        "#include <arpa/inet.h>\n",
        "#include <sys/wait.h>\n",
        "#include <signal.h>\n",
        "\n",
        "#include \"project.h\"\n",
        "\n",
        "\n",
        "using namespace std;\n",
        "using namespace chrono_literals;\n",
        "\n",
        "\n",
        "int main() { \n",
        "  \n",
        "  // for server, to prevent the port from hangging uncomment the two lines below\n",
        "  // after you call socket() but before bind()\n",
        "  // server.cpp from discussion 2 was updated to reflect its use\n",
        "\n",
        "  // int yes = 1;\n",
        "  // setsockopt(sockfd, SOL_SOCKET, SO_REUSEADDR, &yes, sizeof(int));\n",
        "\n",
        "  return 0;\n",
        "} "
      ],
      "execution_count": null,
      "outputs": [
        {
          "output_type": "stream",
          "text": [
            "Writing server.cpp\n"
          ],
          "name": "stdout"
        }
      ]
    },
    {
      "cell_type": "code",
      "metadata": {
        "colab": {
          "base_uri": "https://localhost:8080/"
        },
        "id": "veBlCaJ42LQq",
        "outputId": "ae3c15b0-a3fd-4fcf-8540-c89307bda094"
      },
      "source": [
        "%%writefile seller.cpp\n",
        "#include <iostream>\n",
        "#include <fstream>\n",
        "#include <iomanip>\n",
        "#include <ctime>\n",
        "#include <chrono>\n",
        "\n",
        "#include <stdio.h>\n",
        "#include <stdlib.h>\n",
        "#include <unistd.h>\n",
        "#include <errno.h>\n",
        "#include <string.h>\n",
        "#include <sys/types.h>\n",
        "#include <sys/socket.h>\n",
        "#include <netinet/in.h>\n",
        "#include <netdb.h>\n",
        "#include <arpa/inet.h>\n",
        "#include <sys/wait.h>\n",
        "#include <signal.h>\n",
        "\n",
        "#include \"project.h\"\n",
        "\n",
        "\n",
        "using namespace std;\n",
        "\n",
        "\n",
        "int main(int argc, char* argv[]) { \n",
        "  \n",
        "  // use argv[1] to read items from a file\n",
        "\n",
        "  return 0;\n",
        "} "
      ],
      "execution_count": null,
      "outputs": [
        {
          "output_type": "stream",
          "text": [
            "Writing seller.cpp\n"
          ],
          "name": "stdout"
        }
      ]
    },
    {
      "cell_type": "code",
      "metadata": {
        "colab": {
          "base_uri": "https://localhost:8080/"
        },
        "id": "1Z1RGUctrUo8",
        "outputId": "da163591-02f4-4965-8b26-72caa84e533a"
      },
      "source": [
        "%%writefile buyer.cpp\n",
        "#include <iostream>\n",
        "#include <fstream>\n",
        "#include <iomanip>\n",
        "#include <ctime>\n",
        "#include <chrono>\n",
        "\n",
        "#include <stdio.h>\n",
        "#include <stdlib.h>\n",
        "#include <unistd.h>\n",
        "#include <errno.h>\n",
        "#include <string.h>\n",
        "#include <sys/types.h>\n",
        "#include <sys/socket.h>\n",
        "#include <netinet/in.h>\n",
        "#include <netdb.h>\n",
        "#include <arpa/inet.h>\n",
        "#include <sys/wait.h>\n",
        "#include <signal.h>\n",
        "\n",
        "#include \"project.h\"\n",
        "\n",
        "\n",
        "using namespace std;\n",
        "\n",
        "\n",
        "int main(int argc, char* argv[]) { \n",
        "  \n",
        "  // use argv[1] to read items from a file\n",
        "\n",
        "  return 0;\n",
        "} "
      ],
      "execution_count": null,
      "outputs": [
        {
          "output_type": "stream",
          "text": [
            "Writing buyer.cpp\n"
          ],
          "name": "stdout"
        }
      ]
    },
    {
      "cell_type": "code",
      "metadata": {
        "colab": {
          "base_uri": "https://localhost:8080/"
        },
        "id": "xqlZMWkN7zHb",
        "outputId": "b14a4572-8375-4951-f4ad-b6676508b8be"
      },
      "source": [
        "%%writefile items-seller1.txt\n",
        "4\n",
        "230 Bike\n",
        "5000 Car\n",
        "499 Laptop\n",
        "1 Mouse pad"
      ],
      "execution_count": null,
      "outputs": [
        {
          "output_type": "stream",
          "text": [
            "Writing items-seller1.txt\n"
          ],
          "name": "stdout"
        }
      ]
    },
    {
      "cell_type": "code",
      "metadata": {
        "colab": {
          "base_uri": "https://localhost:8080/"
        },
        "id": "RP7-3ZWv74Of",
        "outputId": "6b056ad6-4c06-4f47-c414-72dbe262ca42"
      },
      "source": [
        "%%writefile items-seller2.txt\n",
        "3\n",
        "220 Bike\n",
        "499 Laptop\n",
        "15 Mouse"
      ],
      "execution_count": null,
      "outputs": [
        {
          "output_type": "stream",
          "text": [
            "Overwriting items-seller2.txt\n"
          ],
          "name": "stdout"
        }
      ]
    },
    {
      "cell_type": "code",
      "metadata": {
        "colab": {
          "base_uri": "https://localhost:8080/"
        },
        "id": "JGTz9plWrYei",
        "outputId": "988a8815-2f4f-4ea6-863a-73204486d4f2"
      },
      "source": [
        "%%writefile items-buyer1.txt\n",
        "3\n",
        "250 Bike\n",
        "400 Laptop\n",
        "20 Mouse"
      ],
      "execution_count": null,
      "outputs": [
        {
          "output_type": "stream",
          "text": [
            "Overwriting items-buyer1.txt\n"
          ],
          "name": "stdout"
        }
      ]
    },
    {
      "cell_type": "code",
      "metadata": {
        "colab": {
          "base_uri": "https://localhost:8080/"
        },
        "id": "oK-Hm38UrZyv",
        "outputId": "3da60253-9f2a-4c01-95b5-003fec0fcf22"
      },
      "source": [
        "%%writefile items-buyer2.txt\n",
        "3\n",
        "260 Bike\n",
        "5001 Car\n",
        "500 Laptop"
      ],
      "execution_count": null,
      "outputs": [
        {
          "output_type": "stream",
          "text": [
            "Overwriting items-buyer2.txt\n"
          ],
          "name": "stdout"
        }
      ]
    },
    {
      "cell_type": "code",
      "metadata": {
        "colab": {
          "base_uri": "https://localhost:8080/"
        },
        "id": "_koBV6loraPl",
        "outputId": "241865a2-6e50-43e5-f2bb-f47db75f3273"
      },
      "source": [
        "%%writefile items-buyer3.txt\n",
        "3\n",
        "5000 Car\n",
        "400 Laptop\n",
        "2 Mouse pad"
      ],
      "execution_count": null,
      "outputs": [
        {
          "output_type": "stream",
          "text": [
            "Overwriting items-buyer3.txt\n"
          ],
          "name": "stdout"
        }
      ]
    },
    {
      "cell_type": "code",
      "metadata": {
        "colab": {
          "base_uri": "https://localhost:8080/"
        },
        "id": "QyVnJtlE5dD5",
        "outputId": "4c69bf11-5e67-4f40-d7a7-b13d3ddc8887"
      },
      "source": [
        "%%writefile run-phase1.sh\n",
        "#!/bin/bash\n",
        "echo \"Starting server...\"\n",
        "./server.out > server.log 2>&1 &\n",
        "pid_server=$!\n",
        "\n",
        "echo \"Starting seller 1...\"\n",
        "./seller.out items-seller1.txt > seller1.log 2>&1 &\n",
        "pid_seller1=$!\n",
        "\n",
        "echo \"Starting seller 2...\"\n",
        "./seller.out items-seller2.txt > seller2.log 2>&1 &\n",
        "pid_seller2=$!\n",
        "\n",
        "echo \"Sleeping for 5 seconds...\"\n",
        "sleep 5\n",
        "\n",
        "echo \"Terminating programs...\"\n",
        "kill -9 $pid_seller1\n",
        "kill -9 $pid_seller2\n",
        "kill -9 $pid_server\n",
        "\n",
        "echo \"Done.\""
      ],
      "execution_count": null,
      "outputs": [
        {
          "output_type": "stream",
          "text": [
            "Writing run-phase1.sh\n"
          ],
          "name": "stdout"
        }
      ]
    },
    {
      "cell_type": "code",
      "metadata": {
        "colab": {
          "base_uri": "https://localhost:8080/"
        },
        "id": "GCoXL13asTjT",
        "outputId": "0467f23b-5a92-42e0-df2f-3bc50d4ad547"
      },
      "source": [
        "%%writefile run-phase2.sh\n",
        "#!/bin/bash\n",
        "echo \"Starting server...\"\n",
        "./server.out > server.log 2>&1 &\n",
        "pid_server=$!\n",
        "\n",
        "echo \"Starting seller 1...\"\n",
        "./seller.out items-seller1.txt > seller1.log 2>&1 &\n",
        "pid_seller1=$!\n",
        "\n",
        "echo \"Starting seller 2...\"\n",
        "./seller.out items-seller2.txt > seller2.log 2>&1 &\n",
        "pid_seller2=$!\n",
        "\n",
        "echo \"Starting buyer 1...\"\n",
        "./buyer.out items-buyer1.txt > buyer1.log 2>&1 &\n",
        "pid_buyer1=$!\n",
        "\n",
        "echo \"Starting buyer 2...\"\n",
        "./buyer.out items-buyer2.txt > buyer2.log 2>&1 &\n",
        "pid_buyer2=$!\n",
        "\n",
        "echo \"Starting buyer 3...\"\n",
        "./buyer.out items-buyer3.txt > buyer3.log 2>&1 &\n",
        "pid_buyer3=$!\n",
        "\n",
        "echo \"Sleeping for 15 seconds...\"\n",
        "sleep 15\n",
        "\n",
        "echo \"Terminating programs...\"\n",
        "kill -9 $pid_seller1\n",
        "kill -9 $pid_seller2\n",
        "kill -9 $pid_buyer1\n",
        "kill -9 $pid_buyer2\n",
        "kill -9 $pid_buyer3\n",
        "kill -9 $pid_server\n",
        "\n",
        "echo \"Done.\""
      ],
      "execution_count": null,
      "outputs": [
        {
          "output_type": "stream",
          "text": [
            "Overwriting run-phase2.sh\n"
          ],
          "name": "stdout"
        }
      ]
    },
    {
      "cell_type": "code",
      "metadata": {
        "colab": {
          "base_uri": "https://localhost:8080/"
        },
        "id": "aC1BCLiJKYpk",
        "outputId": "053a8075-9b05-4f25-94c4-9ad44143f8c2"
      },
      "source": [
        "%%writefile Makefile\n",
        "all: seller server\n",
        "\n",
        "seller: seller.cpp\n",
        "\tg++ seller.cpp -lpthread -lstdc++ -Wall -Wextra -std=c++17 -o seller.out\n",
        "\n",
        "buyer: buyer.cpp\n",
        "\tg++ buyer.cpp -lpthread -lstdc++ -Wall -Wextra -std=c++17 -o buyer.out\n",
        "\n",
        "server: server.cpp\n",
        "\tg++ server.cpp -lpthread -lstdc++ -Wall -Wextra -std=c++17 -o server.out\n",
        "\n",
        "run-phase1: seller server\n",
        "\tbash run-phase1.sh\n",
        "\n",
        "run-phase2: seller buyer server\n",
        "\tbash run-phase2.sh\n",
        "\n",
        "run-phase3: seller buyer server\n",
        "\tbash run-phase2.sh\n",
        "\n",
        "clean:\n",
        "\trm -rf seller.out server.out"
      ],
      "execution_count": null,
      "outputs": [
        {
          "output_type": "stream",
          "text": [
            "Overwriting Makefile\n"
          ],
          "name": "stdout"
        }
      ]
    },
    {
      "cell_type": "code",
      "metadata": {
        "id": "66dqTFo3K5oY",
        "colab": {
          "base_uri": "https://localhost:8080/"
        },
        "outputId": "46859e3f-785f-4ef7-920a-f4856e7c5c6f"
      },
      "source": [
        "!make run-phase2"
      ],
      "execution_count": null,
      "outputs": [
        {
          "output_type": "stream",
          "text": [
            "g++ seller.cpp -lpthread -lstdc++ -Wall -Wextra -std=c++17 -o seller.out\n",
            "\u001b[01m\u001b[Kseller.cpp:\u001b[m\u001b[K In function ‘\u001b[01m\u001b[Kint main(int, char**)\u001b[m\u001b[K’:\n",
            "\u001b[01m\u001b[Kseller.cpp:26:14:\u001b[m\u001b[K \u001b[01;35m\u001b[Kwarning: \u001b[m\u001b[Kunused parameter ‘\u001b[01m\u001b[Kargc\u001b[m\u001b[K’ [\u001b[01;35m\u001b[K-Wunused-parameter\u001b[m\u001b[K]\n",
            " int main(int \u001b[01;35m\u001b[Kargc\u001b[m\u001b[K, char* argv[]) {\n",
            "              \u001b[01;35m\u001b[K^~~~\u001b[m\u001b[K\n",
            "\u001b[01m\u001b[Kseller.cpp:26:31:\u001b[m\u001b[K \u001b[01;35m\u001b[Kwarning: \u001b[m\u001b[Kunused parameter ‘\u001b[01m\u001b[Kargv\u001b[m\u001b[K’ [\u001b[01;35m\u001b[K-Wunused-parameter\u001b[m\u001b[K]\n",
            " int main(int argc, char* argv[\u001b[01;35m\u001b[K]\u001b[m\u001b[K) {\n",
            "                               \u001b[01;35m\u001b[K^\u001b[m\u001b[K\n",
            "g++ buyer.cpp -lpthread -lstdc++ -Wall -Wextra -std=c++17 -o buyer.out\n",
            "\u001b[01m\u001b[Kbuyer.cpp:\u001b[m\u001b[K In function ‘\u001b[01m\u001b[Kint main(int, char**)\u001b[m\u001b[K’:\n",
            "\u001b[01m\u001b[Kbuyer.cpp:26:14:\u001b[m\u001b[K \u001b[01;35m\u001b[Kwarning: \u001b[m\u001b[Kunused parameter ‘\u001b[01m\u001b[Kargc\u001b[m\u001b[K’ [\u001b[01;35m\u001b[K-Wunused-parameter\u001b[m\u001b[K]\n",
            " int main(int \u001b[01;35m\u001b[Kargc\u001b[m\u001b[K, char* argv[]) {\n",
            "              \u001b[01;35m\u001b[K^~~~\u001b[m\u001b[K\n",
            "\u001b[01m\u001b[Kbuyer.cpp:26:31:\u001b[m\u001b[K \u001b[01;35m\u001b[Kwarning: \u001b[m\u001b[Kunused parameter ‘\u001b[01m\u001b[Kargv\u001b[m\u001b[K’ [\u001b[01;35m\u001b[K-Wunused-parameter\u001b[m\u001b[K]\n",
            " int main(int argc, char* argv[\u001b[01;35m\u001b[K]\u001b[m\u001b[K) {\n",
            "                               \u001b[01;35m\u001b[K^\u001b[m\u001b[K\n",
            "g++ server.cpp -lpthread -lstdc++ -Wall -Wextra -std=c++17 -o server.out\n",
            "bash run-phase2.sh\n",
            "Starting server...\n",
            "Starting seller 1...\n",
            "Starting seller 2...\n",
            "Starting buyer 1...\n",
            "Starting buyer 2...\n",
            "Starting buyer 3...\n",
            "Sleeping for 15 seconds...\n",
            "Terminating programs...\n",
            "run-phase2.sh: line 30: kill: (186) - No such process\n",
            "run-phase2.sh: line 31: kill: (187) - No such process\n",
            "run-phase2.sh: line 32: kill: (188) - No such process\n",
            "run-phase2.sh: line 33: kill: (189) - No such process\n",
            "run-phase2.sh: line 34: kill: (190) - No such process\n",
            "run-phase2.sh: line 35: kill: (185) - No such process\n",
            "Done.\n"
          ],
          "name": "stdout"
        }
      ]
    },
    {
      "cell_type": "code",
      "metadata": {
        "id": "DjK-bfuo9Y-d"
      },
      "source": [
        ""
      ],
      "execution_count": null,
      "outputs": []
    }
  ]
}